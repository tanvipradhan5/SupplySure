{
 "cells": [
  {
   "cell_type": "markdown",
   "id": "47056c38",
   "metadata": {},
   "source": [
    "# SupplySure 🚀\n",
    "### Version 1: Logistic Regression Modeling\n",
    "### Created by Tanvi Pradhan\n",
    "Training a logistic model to predict supplier reliability based on operational features.\n",
    "\n",
    "---\n"
   ]
  },
  {
   "cell_type": "code",
   "execution_count": 4,
   "id": "97495e13",
   "metadata": {},
   "outputs": [
    {
     "name": "stdout",
     "output_type": "stream",
     "text": [
      "Model Accuracy: 0.90\n",
      "\n",
      "Classification Report:\n",
      "\n",
      "              precision    recall  f1-score   support\n",
      "\n",
      "           0       1.00      0.89      0.94         9\n",
      "           1       0.50      1.00      0.67         1\n",
      "\n",
      "    accuracy                           0.90        10\n",
      "   macro avg       0.75      0.94      0.80        10\n",
      "weighted avg       0.95      0.90      0.91        10\n",
      "\n",
      "\n",
      "Confusion Matrix:\n",
      "\n",
      "[[8 1]\n",
      " [0 1]]\n",
      "\n",
      "Feature Importance:\n",
      "\n",
      "                     Feature  Coefficient\n",
      "4               is_certified     0.393352\n",
      "2         order_accuracy_pct     0.236713\n",
      "0           avg_on_time_rate     0.100584\n",
      "9       region_South America    -0.011332\n",
      "6                region_Asia    -0.084846\n",
      "10  contract_type_Short-term    -0.111960\n",
      "1             avg_delay_days    -0.215872\n",
      "8       region_North America    -0.283951\n",
      "7              region_Europe    -0.412066\n",
      "5      has_recent_disruption    -1.338930\n",
      "3            complaint_count    -1.602604\n"
     ]
    }
   ],
   "source": [
    "# 📚 Import libraries\n",
    "import pandas as pd\n",
    "from sklearn.model_selection import train_test_split\n",
    "from sklearn.linear_model import LogisticRegression\n",
    "from sklearn.metrics import accuracy_score, confusion_matrix, classification_report\n",
    "\n",
    "# 📂 Load the dataset\n",
    "df = pd.read_csv(\"../data/supplier_performance.csv\")\n",
    "\n",
    "# 📈 Prepare features (X) and target (y)\n",
    "X = df.drop(columns=[\"supplier_id\", \"is_reliable\"])\n",
    "y = df[\"is_reliable\"]\n",
    "\n",
    "# Encode categorical features\n",
    "X = pd.get_dummies(X, drop_first=True)\n",
    "\n",
    "\n",
    "# 📊 Train/Test Split\n",
    "X_train, X_test, y_train, y_test = train_test_split(\n",
    "    X, y, test_size=0.2, random_state=5, stratify=y\n",
    ")\n",
    "\n",
    "# 🤖 Train Logistic Regression Model\n",
    "model = LogisticRegression(max_iter=1000)\n",
    "model.fit(X_train, y_train)\n",
    "\n",
    "# 📈 Predict on Test Set\n",
    "y_pred = model.predict(X_test)\n",
    "\n",
    "# 📋 Model Evaluation\n",
    "accuracy = accuracy_score(y_test, y_pred)\n",
    "print(f\"Model Accuracy: {accuracy:.2f}\")\n",
    "\n",
    "print(\"\\nClassification Report:\\n\")\n",
    "print(classification_report(y_test, y_pred))\n",
    "\n",
    "print(\"\\nConfusion Matrix:\\n\")\n",
    "print(confusion_matrix(y_test, y_pred))\n",
    "\n",
    "# 🔥 Feature Importance\n",
    "importance_df = pd.DataFrame({\n",
    "    \"Feature\": X.columns,\n",
    "    \"Coefficient\": model.coef_[0]\n",
    "}).sort_values(by=\"Coefficient\", ascending=False)\n",
    "\n",
    "print(\"\\nFeature Importance:\\n\")\n",
    "print(importance_df)\n"
   ]
  },
  {
   "cell_type": "markdown",
   "id": "8f81a325",
   "metadata": {},
   "source": [
    "---\n",
    "### 🖋️ Project Created by Tanvi Pradhan | Licensed under [CC BY-NC-ND 4.0](https://creativecommons.org/licenses/by-nc-nd/4.0/)\n"
   ]
  }
 ],
 "metadata": {
  "kernelspec": {
   "display_name": "Python 3",
   "language": "python",
   "name": "python3"
  },
  "language_info": {
   "codemirror_mode": {
    "name": "ipython",
    "version": 3
   },
   "file_extension": ".py",
   "mimetype": "text/x-python",
   "name": "python",
   "nbconvert_exporter": "python",
   "pygments_lexer": "ipython3",
   "version": "3.8.10"
  }
 },
 "nbformat": 4,
 "nbformat_minor": 5
}
